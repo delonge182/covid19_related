{
 "cells": [
  {
   "cell_type": "code",
   "execution_count": 1,
   "metadata": {},
   "outputs": [],
   "source": [
    "import pandas as pd\n",
    "import numpy as np\n",
    "\n",
    "from sklearn import datasets, linear_model\n",
    "from sklearn.metrics import mean_squared_error, r2_score\n",
    "\n",
    "from sklearn.linear_model import Perceptron\n",
    "from sklearn.preprocessing import PolynomialFeatures"
   ]
  },
  {
   "cell_type": "code",
   "execution_count": 2,
   "metadata": {},
   "outputs": [],
   "source": [
    "# data_url = \"https://www.ecdc.europa.eu/sites/default/files/documents/COVID-19-geographic-disbtribution-worldwide-2020-05-09.xlsx\"\n",
    "# data = pd.read_excel(data_url, \"Data 1\", skiprows=2)\n",
    "dfcovid = pd.read_excel('data_covid/COVID-19-geographic-disbtribution-worldwide-2020-05-25.xlsx')\n",
    "# dfcovid = pd.read_excel('data_url')\n",
    "\n"
   ]
  },
  {
   "cell_type": "code",
   "execution_count": 3,
   "metadata": {},
   "outputs": [],
   "source": [
    "dfcovid['total_cases_to_date'] = dfcovid.apply(lambda row: \n",
    "              dfcovid[(dfcovid['geoId'] == row.geoId) \n",
    "                      & (dfcovid['dateRep'] <= row.dateRep)]['cases'].sum(), axis = 1) \n",
    "\n",
    "dfcovid['total_deaths_to_date'] = dfcovid.apply(lambda row: \n",
    "              dfcovid[(dfcovid['geoId'] == row.geoId) \n",
    "                      & (dfcovid['dateRep'] <= row.dateRep)]['deaths'].sum(), axis = 1) \n",
    "\n",
    "dfcovid['month_day'] = dfcovid.apply(lambda row: str(row.month) + '' + str(row.day), axis = 1) "
   ]
  },
  {
   "cell_type": "code",
   "execution_count": 4,
   "metadata": {},
   "outputs": [],
   "source": [
    "dfcovid_singapore = dfcovid[(dfcovid['countriesAndTerritories'] == 'Singapore') & \n",
    "                           (dfcovid['total_cases_to_date'] > 0)].sort_values('dateRep').reset_index()\n",
    "\n",
    "dfcovid_southkorea = dfcovid[(dfcovid['countriesAndTerritories'] == 'South_Korea') &\n",
    "                            (dfcovid['total_cases_to_date'] > 0)].sort_values('dateRep').reset_index()\n",
    "\n",
    "dfcovid_norway = dfcovid[(dfcovid['countriesAndTerritories'] == 'Norway') &\n",
    "                            (dfcovid['total_cases_to_date'] > 0)].sort_values('dateRep').reset_index()\n",
    "\n",
    "\n",
    "dfcovid_indonesia = dfcovid[(dfcovid['countriesAndTerritories'] == 'Indonesia') &\n",
    "                            (dfcovid['total_cases_to_date'] > 0)].sort_values('dateRep').reset_index()\n",
    "\n",
    "\n",
    "dfcovid_uk = dfcovid[(dfcovid['countriesAndTerritories'] == 'United_Kingdom') &\n",
    "                            (dfcovid['total_cases_to_date'] > 0)].sort_values('dateRep').reset_index()\n",
    "\n",
    "\n",
    "dfcovid_us = dfcovid[(dfcovid['countriesAndTerritories'] == 'United_States_of_America') &\n",
    "                            (dfcovid['total_cases_to_date'] > 0)].sort_values('dateRep').reset_index()\n",
    "\n",
    "dfcovid_china = dfcovid[(dfcovid['countriesAndTerritories'] == 'China') &\n",
    "                            (dfcovid['total_cases_to_date'] > 0)].sort_values('dateRep').reset_index()\n",
    "\n",
    "\n",
    "dfcovid_italy = dfcovid[(dfcovid['countriesAndTerritories'] == 'Italy') &\n",
    "                            (dfcovid['total_cases_to_date'] > 0)].sort_values('dateRep').reset_index()\n",
    "\n",
    "dfcovid_germany = dfcovid[(dfcovid['countriesAndTerritories'] == 'Germany') &\n",
    "                            (dfcovid['total_cases_to_date'] > 0)].sort_values('dateRep').reset_index()\n",
    "\n",
    "dfcovid_france = dfcovid[(dfcovid['countriesAndTerritories'] == 'France') &\n",
    "                            (dfcovid['total_cases_to_date'] > 0)].sort_values('dateRep').reset_index()\n",
    "\n",
    "dfcovid_belgium = dfcovid[(dfcovid['countriesAndTerritories'] == 'Belgium') &\n",
    "                            (dfcovid['total_cases_to_date'] > 0)].sort_values('dateRep').reset_index()"
   ]
  },
  {
   "cell_type": "code",
   "execution_count": 5,
   "metadata": {},
   "outputs": [
    {
     "data": {
      "image/png": "[encoded data removed]",
      "text/plain": [
       "<Figure size 936x576 with 1 Axes>"
      ]
     },
     "metadata": {
      "needs_background": "light"
     },
     "output_type": "display_data"
    }
   ],
   "source": [
    "import matplotlib.pyplot as plot\n",
    "\n",
    "df_predict_id = pd.read_csv('data_covid/prediction-ID-2')\n",
    "df_predict_no = pd.read_csv('data_covid/prediction-NO-1')\n",
    "df_predict_us = pd.read_csv('data_covid/prediction-US-2')\n",
    "df_predict_uk = pd.read_csv('data_covid/prediction-UK-2')\n",
    "df_predict_it = pd.read_csv('data_covid/prediction-IT-2')\n",
    "df_predict_de = pd.read_csv('data_covid/prediction-DE-2')\n",
    "\n",
    "x_indonesia = dfcovid_indonesia.index\n",
    "y_indonesia = dfcovid_indonesia.total_cases_to_date\n",
    "x_indonesia_pred = df_predict_id.x\n",
    "y_indonesia_pred = df_predict_id.y\n",
    "\n",
    "x_norway = dfcovid_norway.index\n",
    "y_norway = dfcovid_norway.total_cases_to_date\n",
    "x_norway_pred = df_predict_no.x\n",
    "y_norway_pred = df_predict_no.y\n",
    "\n",
    "# x_uk = dfcovid_uk.index\n",
    "# y_uk = dfcovid_uk.total_cases_to_date\n",
    "\n",
    "# x_us = dfcovid_us.index\n",
    "# y_us = dfcovid_us.total_cases_to_date\n",
    "\n",
    "# x_germany = dfcovid_germany.index\n",
    "# y_germany = dfcovid_germany.total_cases_to_date\n",
    "\n",
    "# x_china = dfcovid_china.index\n",
    "# y_china = dfcovid_china.total_cases_to_date\n",
    "\n",
    "# x_france = dfcovid_france.index\n",
    "# y_france = dfcovid_france.total_cases_to_date\n",
    "\n",
    "# x_italy = dfcovid_italy.index\n",
    "# y_italy = dfcovid_italy.total_cases_to_date\n",
    "\n",
    "# x_belgium = dfcovid_belgium.index\n",
    "# y_belgium = dfcovid_belgium.total_cases_to_date\n",
    "\n",
    "plot.figure(figsize=(13, 8))\n",
    "\n",
    "# plot.scatter(x_indonesia, y_indonesia, c='r', label='Indonesia')\n",
    "# plot.scatter(x_norway, y_norway, c='b', label='Norway')\n",
    "# plot.scatter(x_uk, y_uk, c='y', label='UK')\n",
    "# plot.scatter(x_us, y_us, c='g', label='US')\n",
    "\n",
    "plot.plot(x_indonesia, y_indonesia, color='red', linewidth=1, label='Indonesia')\n",
    "plot.plot(x_indonesia_pred, y_indonesia_pred, color='green', linewidth=1, label='Indonesia')\n",
    "\n",
    "plot.plot(x_norway, y_norway, color='blue', linewidth=1, label='Norway')\n",
    "plot.plot(x_norway_pred, y_norway_pred, color='yellow', linewidth=1, label='Norway')\n",
    "\n",
    "# plot.plot(x_belgium, y_belgium, color='yellow', linewidth=1, label='Belgium')\n",
    "# plot.plot(x_uk, y_uk, color='yellow', linewidth=1, label='UK')\n",
    "# plot.plot(x_us, y_us, color='green', linewidth=1, label='US')\n",
    "# plot.plot(x_germany, y_germany, color='blue', linewidth=1, label='Germany')\n",
    "# plot.plot(x_france, y_france, color='red', linewidth=1, label='France')\n",
    "# plot.plot(x_italy, y_italy, color='black', linewidth=1, label='Italy')\n",
    "# plot.plot(x_southkorea, y_southkorea, color='brown', linewidth=1, label='South Korea')\n",
    "\n",
    "plot.legend(loc='upper left')\n",
    "plot.show()"
   ]
  },
  {
   "cell_type": "code",
   "execution_count": null,
   "metadata": {},
   "outputs": [],
   "source": []
  }
 ],
 "metadata": {
  "kernelspec": {
   "display_name": "Python 3",
   "language": "python",
   "name": "python3"
  },
  "language_info": {
   "codemirror_mode": {
    "name": "ipython",
    "version": 3
   },
   "file_extension": ".py",
   "mimetype": "text/x-python",
   "name": "python",
   "nbconvert_exporter": "python",
   "pygments_lexer": "ipython3",
   "version": "3.7.6"
  }
 },
 "nbformat": 4,
 "nbformat_minor": 4
}
