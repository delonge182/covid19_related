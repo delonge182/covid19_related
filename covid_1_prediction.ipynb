{
 "cells": [
  {
   "cell_type": "code",
   "execution_count": 1,
   "metadata": {},
   "outputs": [],
   "source": [
    "import pandas as pd\n",
    "import numpy as np\n",
    "\n",
    "from sklearn import datasets, linear_model\n",
    "from sklearn.metrics import mean_squared_error, r2_score\n",
    "\n",
    "from sklearn.linear_model import Perceptron\n",
    "from sklearn.preprocessing import PolynomialFeatures"
   ]
  },
  {
   "cell_type": "code",
   "execution_count": 2,
   "metadata": {},
   "outputs": [],
   "source": [
    "dfcovid = pd.read_excel('data_covid/COVID-19-geographic-disbtribution-worldwide-2020-05-25.xlsx')"
   ]
  },
  {
   "cell_type": "code",
   "execution_count": 3,
   "metadata": {},
   "outputs": [],
   "source": [
    "dfcovid['total_cases_to_date'] = dfcovid.apply(lambda row: \n",
    "              dfcovid[(dfcovid['geoId'] == row.geoId) \n",
    "                      & (dfcovid['dateRep'] <= row.dateRep)]['cases'].sum(), axis = 1) \n",
    "\n",
    "dfcovid['total_deaths_to_date'] = dfcovid.apply(lambda row: \n",
    "              dfcovid[(dfcovid['geoId'] == row.geoId) \n",
    "                      & (dfcovid['dateRep'] <= row.dateRep)]['deaths'].sum(), axis = 1) "
   ]
  },
  {
   "cell_type": "code",
   "execution_count": 4,
   "metadata": {},
   "outputs": [],
   "source": [
    "dfcovid['month_day'] = dfcovid.apply(lambda row: str(row.month) + '' + str(row.day), axis = 1) "
   ]
  },
  {
   "cell_type": "code",
   "execution_count": 274,
   "metadata": {
    "collapsed": true
   },
   "outputs": [],
   "source": [
    "# dfcovid[(dfcovid['countriesAndTerritories'] == 'Norway') & (dfcovid['month'] == 2)]\n",
    "# dfcovid_indonesia\n",
    "# dfcovid[(dfcovid['geoId'] == 'US') & (dfcovid['month'] == 2)]"
   ]
  },
  {
   "cell_type": "code",
   "execution_count": 90,
   "metadata": {},
   "outputs": [],
   "source": [
    "# dfcovid[(dfcovid['countriesAndTerritories'] == 'Norway') & (dfcovid['month'] == 3) ] # 3596.52553664, 3870.34084828, 4154.20176649\n",
    "# dfcovid[(dfcovid['countriesAndTerritories'] == 'Italy') & (dfcovid['month'] == 3) ]\n",
    "# dfcovid[(dfcovid['countriesAndTerritories'] == 'United_Kingdom') & (dfcovid['month'] == 3) ]\n",
    "# dfcovid[(dfcovid['countriesAndTerritories'] == 'Indonesia') & (dfcovid['month'] == 3) ]\n",
    "# dfcovid[(dfcovid['countriesAndTerritories'] == 'South_Korea') & (dfcovid['month'] == 3) ]\n",
    "# dfcovid[(dfcovid['countriesAndTerritories'] == 'China') & (dfcovid['month'] == 3) ]\n",
    "# dfcovid[(dfcovid['countriesAndTerritories'] == 'Singapore') & (dfcovid['month'] == 3) ]\n",
    "# dfcovid[(dfcovid['countriesAndTerritories'] == 'Australia') & (dfcovid['month'] == 3) ]\n",
    "# dfcovid[(dfcovid['countriesAndTerritories'] == 'France') & (dfcovid['month'] == 3) ]"
   ]
  },
  {
   "cell_type": "code",
   "execution_count": 25,
   "metadata": {},
   "outputs": [
    {
     "data": {
      "text/html": [
       "<div>\n",
       "<style scoped>\n",
       "    .dataframe tbody tr th:only-of-type {\n",
       "        vertical-align: middle;\n",
       "    }\n",
       "\n",
       "    .dataframe tbody tr th {\n",
       "        vertical-align: top;\n",
       "    }\n",
       "\n",
       "    .dataframe thead th {\n",
       "        text-align: right;\n",
       "    }\n",
       "</style>\n",
       "<table border=\"1\" class=\"dataframe\">\n",
       "  <thead>\n",
       "    <tr style=\"text-align: right;\">\n",
       "      <th></th>\n",
       "      <th>day</th>\n",
       "      <th>month</th>\n",
       "      <th>year</th>\n",
       "      <th>cases</th>\n",
       "      <th>deaths</th>\n",
       "      <th>popData2018</th>\n",
       "      <th>total_cases_to_date</th>\n",
       "      <th>total_deaths_to_date</th>\n",
       "    </tr>\n",
       "    <tr>\n",
       "      <th>countriesAndTerritories</th>\n",
       "      <th></th>\n",
       "      <th></th>\n",
       "      <th></th>\n",
       "      <th></th>\n",
       "      <th></th>\n",
       "      <th></th>\n",
       "      <th></th>\n",
       "      <th></th>\n",
       "    </tr>\n",
       "  </thead>\n",
       "  <tbody>\n",
       "    <tr>\n",
       "      <th>Indonesia</th>\n",
       "      <td>1685</td>\n",
       "      <td>265</td>\n",
       "      <td>218159</td>\n",
       "      <td>7418</td>\n",
       "      <td>635</td>\n",
       "      <td>2.890765e+10</td>\n",
       "      <td>104699</td>\n",
       "      <td>9114</td>\n",
       "    </tr>\n",
       "    <tr>\n",
       "      <th>Norway</th>\n",
       "      <td>1734</td>\n",
       "      <td>286</td>\n",
       "      <td>232299</td>\n",
       "      <td>7250</td>\n",
       "      <td>169</td>\n",
       "      <td>6.111486e+08</td>\n",
       "      <td>184939</td>\n",
       "      <td>2442</td>\n",
       "    </tr>\n",
       "  </tbody>\n",
       "</table>\n",
       "</div>"
      ],
      "text/plain": [
       "                          day  month    year  cases  deaths   popData2018  \\\n",
       "countriesAndTerritories                                                     \n",
       "Indonesia                1685    265  218159   7418     635  2.890765e+10   \n",
       "Norway                   1734    286  232299   7250     169  6.111486e+08   \n",
       "\n",
       "                         total_cases_to_date  total_deaths_to_date  \n",
       "countriesAndTerritories                                             \n",
       "Indonesia                             104699                  9114  \n",
       "Norway                                184939                  2442  "
      ]
     },
     "execution_count": 25,
     "metadata": {},
     "output_type": "execute_result"
    }
   ],
   "source": [
    "# dfcovid[dfcovid['Countries and territories'] == 'Indonesia'].groupby('Countries and territories').sum()\n",
    "# dfcovid.groupby('countriesAndTerritories').sum().sort_values('total_cases_to_date', ascending=False).head(10)\n",
    "# dfcovid.groupby('countriesAndTerritories').sum().sort_values('cases', ascending=False).head(10)\n",
    "\n",
    "dfcovid[(dfcovid['countriesAndTerritories'] == 'Indonesia') | (dfcovid['countriesAndTerritories'] == 'Norway')].groupby('countriesAndTerritories').sum()"
   ]
  },
  {
   "cell_type": "code",
   "execution_count": 5,
   "metadata": {},
   "outputs": [],
   "source": [
    "dfcovid_singapore = dfcovid[(dfcovid['countriesAndTerritories'] == 'Singapore') & \n",
    "                           (dfcovid['total_cases_to_date'] > 0)].sort_values('dateRep').reset_index()\n",
    "\n",
    "dfcovid_southkorea = dfcovid[(dfcovid['countriesAndTerritories'] == 'South_Korea') &\n",
    "                            (dfcovid['total_cases_to_date'] > 0)].sort_values('dateRep').reset_index()\n",
    "\n",
    "dfcovid_norway = dfcovid[(dfcovid['countriesAndTerritories'] == 'Norway') &\n",
    "                            (dfcovid['total_cases_to_date'] > 0)].sort_values('dateRep').reset_index()\n",
    "\n",
    "\n",
    "dfcovid_indonesia = dfcovid[(dfcovid['countriesAndTerritories'] == 'Indonesia') &\n",
    "                            (dfcovid['total_cases_to_date'] > 0)].sort_values('dateRep').reset_index()\n",
    "\n",
    "\n",
    "dfcovid_uk = dfcovid[(dfcovid['countriesAndTerritories'] == 'United_Kingdom') &\n",
    "                            (dfcovid['total_cases_to_date'] > 0)].sort_values('dateRep').reset_index()\n",
    "\n",
    "\n",
    "dfcovid_us = dfcovid[(dfcovid['countriesAndTerritories'] == 'United_States_of_America') &\n",
    "                            (dfcovid['total_cases_to_date'] > 0)].sort_values('dateRep').reset_index()\n",
    "\n",
    "dfcovid_china = dfcovid[(dfcovid['countriesAndTerritories'] == 'China') &\n",
    "                            (dfcovid['total_cases_to_date'] > 0)].sort_values('dateRep').reset_index()\n",
    "\n",
    "\n",
    "dfcovid_italy = dfcovid[(dfcovid['countriesAndTerritories'] == 'Italy') &\n",
    "                            (dfcovid['total_cases_to_date'] > 0)].sort_values('dateRep').reset_index()\n",
    "\n",
    "dfcovid_germany = dfcovid[(dfcovid['countriesAndTerritories'] == 'Germany') &\n",
    "                            (dfcovid['total_cases_to_date'] > 0)].sort_values('dateRep').reset_index()\n",
    "\n",
    "\n",
    "dfcovid_france = dfcovid[(dfcovid['countriesAndTerritories'] == 'France') &\n",
    "                            (dfcovid['total_cases_to_date'] > 0)].sort_values('dateRep').reset_index()\n",
    "\n",
    "dfcovid_belgium = dfcovid[(dfcovid['countriesAndTerritories'] == 'Belgium') &\n",
    "                            (dfcovid['total_cases_to_date'] > 0)].sort_values('dateRep').reset_index()"
   ]
  },
  {
   "cell_type": "code",
   "execution_count": 26,
   "metadata": {},
   "outputs": [
    {
     "data": {
      "text/html": [
       "<div>\n",
       "<style scoped>\n",
       "    .dataframe tbody tr th:only-of-type {\n",
       "        vertical-align: middle;\n",
       "    }\n",
       "\n",
       "    .dataframe tbody tr th {\n",
       "        vertical-align: top;\n",
       "    }\n",
       "\n",
       "    .dataframe thead th {\n",
       "        text-align: right;\n",
       "    }\n",
       "</style>\n",
       "<table border=\"1\" class=\"dataframe\">\n",
       "  <thead>\n",
       "    <tr style=\"text-align: right;\">\n",
       "      <th></th>\n",
       "      <th>index</th>\n",
       "      <th>dateRep</th>\n",
       "      <th>day</th>\n",
       "      <th>month</th>\n",
       "      <th>year</th>\n",
       "      <th>cases</th>\n",
       "      <th>deaths</th>\n",
       "      <th>countriesAndTerritories</th>\n",
       "      <th>geoId</th>\n",
       "      <th>countryterritoryCode</th>\n",
       "      <th>popData2018</th>\n",
       "      <th>continentExp</th>\n",
       "      <th>total_cases_to_date</th>\n",
       "      <th>total_deaths_to_date</th>\n",
       "      <th>month_day</th>\n",
       "    </tr>\n",
       "  </thead>\n",
       "  <tbody>\n",
       "    <tr>\n",
       "      <th>43</th>\n",
       "      <td>5286</td>\n",
       "      <td>2020-04-21</td>\n",
       "      <td>21</td>\n",
       "      <td>4</td>\n",
       "      <td>2020</td>\n",
       "      <td>185</td>\n",
       "      <td>8</td>\n",
       "      <td>Indonesia</td>\n",
       "      <td>ID</td>\n",
       "      <td>IDN</td>\n",
       "      <td>267663435.0</td>\n",
       "      <td>Asia</td>\n",
       "      <td>6760</td>\n",
       "      <td>590</td>\n",
       "      <td>421</td>\n",
       "    </tr>\n",
       "    <tr>\n",
       "      <th>42</th>\n",
       "      <td>5287</td>\n",
       "      <td>2020-04-20</td>\n",
       "      <td>20</td>\n",
       "      <td>4</td>\n",
       "      <td>2020</td>\n",
       "      <td>327</td>\n",
       "      <td>47</td>\n",
       "      <td>Indonesia</td>\n",
       "      <td>ID</td>\n",
       "      <td>IDN</td>\n",
       "      <td>267663435.0</td>\n",
       "      <td>Asia</td>\n",
       "      <td>6575</td>\n",
       "      <td>582</td>\n",
       "      <td>420</td>\n",
       "    </tr>\n",
       "    <tr>\n",
       "      <th>41</th>\n",
       "      <td>5288</td>\n",
       "      <td>2020-04-19</td>\n",
       "      <td>19</td>\n",
       "      <td>4</td>\n",
       "      <td>2020</td>\n",
       "      <td>325</td>\n",
       "      <td>15</td>\n",
       "      <td>Indonesia</td>\n",
       "      <td>ID</td>\n",
       "      <td>IDN</td>\n",
       "      <td>267663435.0</td>\n",
       "      <td>Asia</td>\n",
       "      <td>6248</td>\n",
       "      <td>535</td>\n",
       "      <td>419</td>\n",
       "    </tr>\n",
       "    <tr>\n",
       "      <th>40</th>\n",
       "      <td>5289</td>\n",
       "      <td>2020-04-18</td>\n",
       "      <td>18</td>\n",
       "      <td>4</td>\n",
       "      <td>2020</td>\n",
       "      <td>407</td>\n",
       "      <td>24</td>\n",
       "      <td>Indonesia</td>\n",
       "      <td>ID</td>\n",
       "      <td>IDN</td>\n",
       "      <td>267663435.0</td>\n",
       "      <td>Asia</td>\n",
       "      <td>5923</td>\n",
       "      <td>520</td>\n",
       "      <td>418</td>\n",
       "    </tr>\n",
       "    <tr>\n",
       "      <th>39</th>\n",
       "      <td>5290</td>\n",
       "      <td>2020-04-17</td>\n",
       "      <td>17</td>\n",
       "      <td>4</td>\n",
       "      <td>2020</td>\n",
       "      <td>380</td>\n",
       "      <td>27</td>\n",
       "      <td>Indonesia</td>\n",
       "      <td>ID</td>\n",
       "      <td>IDN</td>\n",
       "      <td>267663435.0</td>\n",
       "      <td>Asia</td>\n",
       "      <td>5516</td>\n",
       "      <td>496</td>\n",
       "      <td>417</td>\n",
       "    </tr>\n",
       "    <tr>\n",
       "      <th>38</th>\n",
       "      <td>5291</td>\n",
       "      <td>2020-04-16</td>\n",
       "      <td>16</td>\n",
       "      <td>4</td>\n",
       "      <td>2020</td>\n",
       "      <td>297</td>\n",
       "      <td>10</td>\n",
       "      <td>Indonesia</td>\n",
       "      <td>ID</td>\n",
       "      <td>IDN</td>\n",
       "      <td>267663435.0</td>\n",
       "      <td>Asia</td>\n",
       "      <td>5136</td>\n",
       "      <td>469</td>\n",
       "      <td>416</td>\n",
       "    </tr>\n",
       "    <tr>\n",
       "      <th>37</th>\n",
       "      <td>5292</td>\n",
       "      <td>2020-04-15</td>\n",
       "      <td>15</td>\n",
       "      <td>4</td>\n",
       "      <td>2020</td>\n",
       "      <td>282</td>\n",
       "      <td>60</td>\n",
       "      <td>Indonesia</td>\n",
       "      <td>ID</td>\n",
       "      <td>IDN</td>\n",
       "      <td>267663435.0</td>\n",
       "      <td>Asia</td>\n",
       "      <td>4839</td>\n",
       "      <td>459</td>\n",
       "      <td>415</td>\n",
       "    </tr>\n",
       "    <tr>\n",
       "      <th>36</th>\n",
       "      <td>5293</td>\n",
       "      <td>2020-04-14</td>\n",
       "      <td>14</td>\n",
       "      <td>4</td>\n",
       "      <td>2020</td>\n",
       "      <td>316</td>\n",
       "      <td>26</td>\n",
       "      <td>Indonesia</td>\n",
       "      <td>ID</td>\n",
       "      <td>IDN</td>\n",
       "      <td>267663435.0</td>\n",
       "      <td>Asia</td>\n",
       "      <td>4557</td>\n",
       "      <td>399</td>\n",
       "      <td>414</td>\n",
       "    </tr>\n",
       "    <tr>\n",
       "      <th>35</th>\n",
       "      <td>5294</td>\n",
       "      <td>2020-04-13</td>\n",
       "      <td>13</td>\n",
       "      <td>4</td>\n",
       "      <td>2020</td>\n",
       "      <td>399</td>\n",
       "      <td>46</td>\n",
       "      <td>Indonesia</td>\n",
       "      <td>ID</td>\n",
       "      <td>IDN</td>\n",
       "      <td>267663435.0</td>\n",
       "      <td>Asia</td>\n",
       "      <td>4241</td>\n",
       "      <td>373</td>\n",
       "      <td>413</td>\n",
       "    </tr>\n",
       "    <tr>\n",
       "      <th>34</th>\n",
       "      <td>5295</td>\n",
       "      <td>2020-04-12</td>\n",
       "      <td>12</td>\n",
       "      <td>4</td>\n",
       "      <td>2020</td>\n",
       "      <td>330</td>\n",
       "      <td>21</td>\n",
       "      <td>Indonesia</td>\n",
       "      <td>ID</td>\n",
       "      <td>IDN</td>\n",
       "      <td>267663435.0</td>\n",
       "      <td>Asia</td>\n",
       "      <td>3842</td>\n",
       "      <td>327</td>\n",
       "      <td>412</td>\n",
       "    </tr>\n",
       "  </tbody>\n",
       "</table>\n",
       "</div>"
      ],
      "text/plain": [
       "    index    dateRep  day  month  year  cases  deaths countriesAndTerritories  \\\n",
       "43   5286 2020-04-21   21      4  2020    185       8               Indonesia   \n",
       "42   5287 2020-04-20   20      4  2020    327      47               Indonesia   \n",
       "41   5288 2020-04-19   19      4  2020    325      15               Indonesia   \n",
       "40   5289 2020-04-18   18      4  2020    407      24               Indonesia   \n",
       "39   5290 2020-04-17   17      4  2020    380      27               Indonesia   \n",
       "38   5291 2020-04-16   16      4  2020    297      10               Indonesia   \n",
       "37   5292 2020-04-15   15      4  2020    282      60               Indonesia   \n",
       "36   5293 2020-04-14   14      4  2020    316      26               Indonesia   \n",
       "35   5294 2020-04-13   13      4  2020    399      46               Indonesia   \n",
       "34   5295 2020-04-12   12      4  2020    330      21               Indonesia   \n",
       "\n",
       "   geoId countryterritoryCode  popData2018 continentExp  total_cases_to_date  \\\n",
       "43    ID                  IDN  267663435.0         Asia                 6760   \n",
       "42    ID                  IDN  267663435.0         Asia                 6575   \n",
       "41    ID                  IDN  267663435.0         Asia                 6248   \n",
       "40    ID                  IDN  267663435.0         Asia                 5923   \n",
       "39    ID                  IDN  267663435.0         Asia                 5516   \n",
       "38    ID                  IDN  267663435.0         Asia                 5136   \n",
       "37    ID                  IDN  267663435.0         Asia                 4839   \n",
       "36    ID                  IDN  267663435.0         Asia                 4557   \n",
       "35    ID                  IDN  267663435.0         Asia                 4241   \n",
       "34    ID                  IDN  267663435.0         Asia                 3842   \n",
       "\n",
       "    total_deaths_to_date month_day  \n",
       "43                   590       421  \n",
       "42                   582       420  \n",
       "41                   535       419  \n",
       "40                   520       418  \n",
       "39                   496       417  \n",
       "38                   469       416  \n",
       "37                   459       415  \n",
       "36                   399       414  \n",
       "35                   373       413  \n",
       "34                   327       412  "
      ]
     },
     "execution_count": 26,
     "metadata": {},
     "output_type": "execute_result"
    }
   ],
   "source": [
    "# dfcovid_norway.sort_values('dateRep', ascending=False).head(10)\n",
    "dfcovid_indonesia.sort_values('dateRep', ascending=False).head(10)\n",
    "# dfcovid_uk\n",
    "# dfcovid_us"
   ]
  },
  {
   "cell_type": "code",
   "execution_count": 6,
   "metadata": {},
   "outputs": [
    {
     "data": {
      "text/plain": [
       "<matplotlib.collections.PathCollection at 0x12720f7fb08>"
      ]
     },
     "execution_count": 6,
     "metadata": {},
     "output_type": "execute_result"
    },
    {
     "data": {
      "image/png": "[encoded data removed]",
      "text/plain": [
       "<Figure size 1080x576 with 1 Axes>"
      ]
     },
     "metadata": {
      "needs_background": "light"
     },
     "output_type": "display_data"
    }
   ],
   "source": [
    "import matplotlib.pyplot as plot\n",
    "\n",
    "x_singapore = dfcovid_singapore.index\n",
    "\n",
    "y_singapore = dfcovid_singapore.total_cases_to_date\n",
    "\n",
    "plot.figure(figsize=(15, 8))\n",
    "\n",
    "plot.scatter(x_singapore, y_singapore)"
   ]
  },
  {
   "cell_type": "code",
   "execution_count": 7,
   "metadata": {},
   "outputs": [
    {
     "data": {
      "text/plain": [
       "<matplotlib.collections.PathCollection at 0x12721047208>"
      ]
     },
     "execution_count": 7,
     "metadata": {},
     "output_type": "execute_result"
    },
    {
     "data": {
      "image/png": "[encoded data removed]",
      "text/plain": [
       "<Figure size 1080x576 with 1 Axes>"
      ]
     },
     "metadata": {
      "needs_background": "light"
     },
     "output_type": "display_data"
    }
   ],
   "source": [
    "import matplotlib.pyplot as plot\n",
    "\n",
    "x_southkorea = dfcovid_southkorea.index\n",
    "\n",
    "y_southkorea = dfcovid_southkorea.total_cases_to_date\n",
    "\n",
    "plot.figure(figsize=(15, 8))\n",
    "\n",
    "plot.scatter(x_southkorea, y_southkorea)"
   ]
  },
  {
   "cell_type": "code",
   "execution_count": 8,
   "metadata": {},
   "outputs": [
    {
     "data": {
      "text/plain": [
       "[<matplotlib.lines.Line2D at 0x12721086988>]"
      ]
     },
     "execution_count": 8,
     "metadata": {},
     "output_type": "execute_result"
    },
    {
     "data": {
      "image/png": "[encoded data removed]",
      "text/plain": [
       "<Figure size 1080x576 with 1 Axes>"
      ]
     },
     "metadata": {
      "needs_background": "light"
     },
     "output_type": "display_data"
    }
   ],
   "source": [
    "import matplotlib.pyplot as plot\n",
    "\n",
    "x_norway = dfcovid_norway.index\n",
    "\n",
    "y_norway = dfcovid_norway.total_cases_to_date\n",
    "\n",
    "plot.figure(figsize=(15, 8))\n",
    "\n",
    "plot.scatter(x_norway, y_norway)\n",
    "plot.plot(x_norway, y_norway, color='red', linewidth=3)"
   ]
  },
  {
   "cell_type": "code",
   "execution_count": 9,
   "metadata": {
    "scrolled": true
   },
   "outputs": [
    {
     "data": {
      "image/png": "[encoded data removed]",
      "text/plain": [
       "<Figure size 936x576 with 1 Axes>"
      ]
     },
     "metadata": {
      "needs_background": "light"
     },
     "output_type": "display_data"
    }
   ],
   "source": [
    "import matplotlib.pyplot as plot\n",
    "\n",
    "x_indonesia = dfcovid_indonesia.index\n",
    "y_indonesia = dfcovid_indonesia.total_cases_to_date\n",
    "\n",
    "x_uk = dfcovid_uk.index\n",
    "y_uk = dfcovid_uk.total_cases_to_date\n",
    "\n",
    "x_us = dfcovid_us.index\n",
    "y_us = dfcovid_us.total_cases_to_date\n",
    "\n",
    "x_germany = dfcovid_germany.index\n",
    "y_germany = dfcovid_germany.total_cases_to_date\n",
    "\n",
    "x_china = dfcovid_china.index\n",
    "y_china = dfcovid_china.total_cases_to_date\n",
    "\n",
    "x_france = dfcovid_france.index\n",
    "y_france = dfcovid_france.total_cases_to_date\n",
    "\n",
    "x_italy = dfcovid_italy.index\n",
    "y_italy = dfcovid_italy.total_cases_to_date\n",
    "\n",
    "x_belgium = dfcovid_belgium.index\n",
    "y_belgium = dfcovid_belgium.total_cases_to_date\n",
    "\n",
    "plot.figure(figsize=(13, 8))\n",
    "\n",
    "# plot.scatter(x_indonesia, y_indonesia, c='r', label='Indonesia')\n",
    "# plot.scatter(x_norway, y_norway, c='b', label='Norway')\n",
    "# plot.scatter(x_uk, y_uk, c='y', label='UK')\n",
    "# plot.scatter(x_us, y_us, c='g', label='US')\n",
    "\n",
    "plot.plot(x_indonesia, y_indonesia, color='green', linewidth=1, label='Indonesia')\n",
    "plot.plot(x_norway, y_norway, color='blue', linewidth=1, label='Norway')\n",
    "plot.plot(x_belgium, y_belgium, color='yellow', linewidth=1, label='Belgium')\n",
    "# plot.plot(x_uk, y_uk, color='yellow', linewidth=1, label='UK')\n",
    "# plot.plot(x_us, y_us, color='green', linewidth=1, label='US')\n",
    "# plot.plot(x_germany, y_germany, color='blue', linewidth=1, label='Germany')\n",
    "# plot.plot(x_france, y_france, color='red', linewidth=1, label='France')\n",
    "# plot.plot(x_italy, y_italy, color='black', linewidth=1, label='Italy')\n",
    "# plot.plot(x_southkorea, y_southkorea, color='brown', linewidth=1, label='South Korea')\n",
    "\n",
    "plot.legend(loc='upper left')\n",
    "plot.show()"
   ]
  },
  {
   "cell_type": "code",
   "execution_count": 330,
   "metadata": {},
   "outputs": [
    {
     "data": {
      "text/html": [
       "<div>\n",
       "<style scoped>\n",
       "    .dataframe tbody tr th:only-of-type {\n",
       "        vertical-align: middle;\n",
       "    }\n",
       "\n",
       "    .dataframe tbody tr th {\n",
       "        vertical-align: top;\n",
       "    }\n",
       "\n",
       "    .dataframe thead th {\n",
       "        text-align: right;\n",
       "    }\n",
       "</style>\n",
       "<table border=\"1\" class=\"dataframe\">\n",
       "  <thead>\n",
       "    <tr style=\"text-align: right;\">\n",
       "      <th></th>\n",
       "      <th>index</th>\n",
       "      <th>dateRep</th>\n",
       "      <th>day</th>\n",
       "      <th>month</th>\n",
       "      <th>year</th>\n",
       "      <th>cases</th>\n",
       "      <th>deaths</th>\n",
       "      <th>countriesAndTerritories</th>\n",
       "      <th>geoId</th>\n",
       "      <th>countryterritoryCode</th>\n",
       "      <th>popData2018</th>\n",
       "      <th>total_cases_to_date</th>\n",
       "      <th>total_deaths_to_date</th>\n",
       "      <th>month_day</th>\n",
       "    </tr>\n",
       "  </thead>\n",
       "  <tbody>\n",
       "    <tr>\n",
       "      <th>82</th>\n",
       "      <td>9972</td>\n",
       "      <td>2020-04-12</td>\n",
       "      <td>12</td>\n",
       "      <td>4</td>\n",
       "      <td>2020</td>\n",
       "      <td>28391</td>\n",
       "      <td>1831</td>\n",
       "      <td>United_States_of_America</td>\n",
       "      <td>US</td>\n",
       "      <td>USA</td>\n",
       "      <td>327167434.0</td>\n",
       "      <td>529951</td>\n",
       "      <td>20608</td>\n",
       "      <td>412</td>\n",
       "    </tr>\n",
       "    <tr>\n",
       "      <th>81</th>\n",
       "      <td>9973</td>\n",
       "      <td>2020-04-11</td>\n",
       "      <td>11</td>\n",
       "      <td>4</td>\n",
       "      <td>2020</td>\n",
       "      <td>35527</td>\n",
       "      <td>2087</td>\n",
       "      <td>United_States_of_America</td>\n",
       "      <td>US</td>\n",
       "      <td>USA</td>\n",
       "      <td>327167434.0</td>\n",
       "      <td>501560</td>\n",
       "      <td>18777</td>\n",
       "      <td>411</td>\n",
       "    </tr>\n",
       "    <tr>\n",
       "      <th>80</th>\n",
       "      <td>9974</td>\n",
       "      <td>2020-04-10</td>\n",
       "      <td>10</td>\n",
       "      <td>4</td>\n",
       "      <td>2020</td>\n",
       "      <td>33901</td>\n",
       "      <td>1873</td>\n",
       "      <td>United_States_of_America</td>\n",
       "      <td>US</td>\n",
       "      <td>USA</td>\n",
       "      <td>327167434.0</td>\n",
       "      <td>466033</td>\n",
       "      <td>16690</td>\n",
       "      <td>410</td>\n",
       "    </tr>\n",
       "    <tr>\n",
       "      <th>79</th>\n",
       "      <td>9975</td>\n",
       "      <td>2020-04-09</td>\n",
       "      <td>9</td>\n",
       "      <td>4</td>\n",
       "      <td>2020</td>\n",
       "      <td>33323</td>\n",
       "      <td>1922</td>\n",
       "      <td>United_States_of_America</td>\n",
       "      <td>US</td>\n",
       "      <td>USA</td>\n",
       "      <td>327167434.0</td>\n",
       "      <td>432132</td>\n",
       "      <td>14817</td>\n",
       "      <td>49</td>\n",
       "    </tr>\n",
       "    <tr>\n",
       "      <th>78</th>\n",
       "      <td>9976</td>\n",
       "      <td>2020-04-08</td>\n",
       "      <td>8</td>\n",
       "      <td>4</td>\n",
       "      <td>2020</td>\n",
       "      <td>30613</td>\n",
       "      <td>1906</td>\n",
       "      <td>United_States_of_America</td>\n",
       "      <td>US</td>\n",
       "      <td>USA</td>\n",
       "      <td>327167434.0</td>\n",
       "      <td>398809</td>\n",
       "      <td>12895</td>\n",
       "      <td>48</td>\n",
       "    </tr>\n",
       "    <tr>\n",
       "      <th>77</th>\n",
       "      <td>9977</td>\n",
       "      <td>2020-04-07</td>\n",
       "      <td>7</td>\n",
       "      <td>4</td>\n",
       "      <td>2020</td>\n",
       "      <td>30561</td>\n",
       "      <td>1342</td>\n",
       "      <td>United_States_of_America</td>\n",
       "      <td>US</td>\n",
       "      <td>USA</td>\n",
       "      <td>327167434.0</td>\n",
       "      <td>368196</td>\n",
       "      <td>10989</td>\n",
       "      <td>47</td>\n",
       "    </tr>\n",
       "    <tr>\n",
       "      <th>76</th>\n",
       "      <td>9978</td>\n",
       "      <td>2020-04-06</td>\n",
       "      <td>6</td>\n",
       "      <td>4</td>\n",
       "      <td>2020</td>\n",
       "      <td>25398</td>\n",
       "      <td>1146</td>\n",
       "      <td>United_States_of_America</td>\n",
       "      <td>US</td>\n",
       "      <td>USA</td>\n",
       "      <td>327167434.0</td>\n",
       "      <td>337635</td>\n",
       "      <td>9647</td>\n",
       "      <td>46</td>\n",
       "    </tr>\n",
       "    <tr>\n",
       "      <th>75</th>\n",
       "      <td>9979</td>\n",
       "      <td>2020-04-05</td>\n",
       "      <td>5</td>\n",
       "      <td>4</td>\n",
       "      <td>2020</td>\n",
       "      <td>34272</td>\n",
       "      <td>1344</td>\n",
       "      <td>United_States_of_America</td>\n",
       "      <td>US</td>\n",
       "      <td>USA</td>\n",
       "      <td>327167434.0</td>\n",
       "      <td>312237</td>\n",
       "      <td>8501</td>\n",
       "      <td>45</td>\n",
       "    </tr>\n",
       "    <tr>\n",
       "      <th>74</th>\n",
       "      <td>9980</td>\n",
       "      <td>2020-04-04</td>\n",
       "      <td>4</td>\n",
       "      <td>4</td>\n",
       "      <td>2020</td>\n",
       "      <td>32425</td>\n",
       "      <td>1104</td>\n",
       "      <td>United_States_of_America</td>\n",
       "      <td>US</td>\n",
       "      <td>USA</td>\n",
       "      <td>327167434.0</td>\n",
       "      <td>277965</td>\n",
       "      <td>7157</td>\n",
       "      <td>44</td>\n",
       "    </tr>\n",
       "    <tr>\n",
       "      <th>73</th>\n",
       "      <td>9981</td>\n",
       "      <td>2020-04-03</td>\n",
       "      <td>3</td>\n",
       "      <td>4</td>\n",
       "      <td>2020</td>\n",
       "      <td>28819</td>\n",
       "      <td>915</td>\n",
       "      <td>United_States_of_America</td>\n",
       "      <td>US</td>\n",
       "      <td>USA</td>\n",
       "      <td>327167434.0</td>\n",
       "      <td>245540</td>\n",
       "      <td>6053</td>\n",
       "      <td>43</td>\n",
       "    </tr>\n",
       "  </tbody>\n",
       "</table>\n",
       "</div>"
      ],
      "text/plain": [
       "    index    dateRep  day  month  year  cases  deaths  \\\n",
       "82   9972 2020-04-12   12      4  2020  28391    1831   \n",
       "81   9973 2020-04-11   11      4  2020  35527    2087   \n",
       "80   9974 2020-04-10   10      4  2020  33901    1873   \n",
       "79   9975 2020-04-09    9      4  2020  33323    1922   \n",
       "78   9976 2020-04-08    8      4  2020  30613    1906   \n",
       "77   9977 2020-04-07    7      4  2020  30561    1342   \n",
       "76   9978 2020-04-06    6      4  2020  25398    1146   \n",
       "75   9979 2020-04-05    5      4  2020  34272    1344   \n",
       "74   9980 2020-04-04    4      4  2020  32425    1104   \n",
       "73   9981 2020-04-03    3      4  2020  28819     915   \n",
       "\n",
       "     countriesAndTerritories geoId countryterritoryCode  popData2018  \\\n",
       "82  United_States_of_America    US                  USA  327167434.0   \n",
       "81  United_States_of_America    US                  USA  327167434.0   \n",
       "80  United_States_of_America    US                  USA  327167434.0   \n",
       "79  United_States_of_America    US                  USA  327167434.0   \n",
       "78  United_States_of_America    US                  USA  327167434.0   \n",
       "77  United_States_of_America    US                  USA  327167434.0   \n",
       "76  United_States_of_America    US                  USA  327167434.0   \n",
       "75  United_States_of_America    US                  USA  327167434.0   \n",
       "74  United_States_of_America    US                  USA  327167434.0   \n",
       "73  United_States_of_America    US                  USA  327167434.0   \n",
       "\n",
       "    total_cases_to_date  total_deaths_to_date month_day  \n",
       "82               529951                 20608       412  \n",
       "81               501560                 18777       411  \n",
       "80               466033                 16690       410  \n",
       "79               432132                 14817        49  \n",
       "78               398809                 12895        48  \n",
       "77               368196                 10989        47  \n",
       "76               337635                  9647        46  \n",
       "75               312237                  8501        45  \n",
       "74               277965                  7157        44  \n",
       "73               245540                  6053        43  "
      ]
     },
     "execution_count": 330,
     "metadata": {},
     "output_type": "execute_result"
    }
   ],
   "source": [
    "dfcovid_us.sort_values('total_cases_to_date', ascending=False).head(10)"
   ]
  },
  {
   "cell_type": "code",
   "execution_count": null,
   "metadata": {},
   "outputs": [],
   "source": [
    "from sklearn.preprocessing import StandardScaler\n",
    "\n",
    "# y_norway_scaled = StandardScaler().fit_transform(y_norway.to_numpy().reshape(-1, 1) )\n",
    "y_norway_scaled = np.log1p(y_norway)\n",
    "\n",
    "plot.scatter(x_norway, y_norway_scaled)"
   ]
  },
  {
   "cell_type": "code",
   "execution_count": 120,
   "metadata": {
    "scrolled": false
   },
   "outputs": [
    {
     "data": {
      "text/plain": [
       "[<matplotlib.lines.Line2D at 0x1e6e36989c8>]"
      ]
     },
     "execution_count": 120,
     "metadata": {},
     "output_type": "execute_result"
    },
    {
     "data": {
      "image/png": "[encoded data removed]",
      "text/plain": [
       "<Figure size 432x288 with 1 Axes>"
      ]
     },
     "metadata": {
      "needs_background": "light"
     },
     "output_type": "display_data"
    }
   ],
   "source": [
    "import matplotlib.pyplot as plot\n",
    "\n",
    "x_italy = dfcovid[(dfcovid['countriesAndTerritories'] == 'Italy') \n",
    "            & (dfcovid['month'] == 3)].day\n",
    "\n",
    "y_italy = dfcovid[(dfcovid['countriesAndTerritories'] == 'Italy') \n",
    "            & (dfcovid['month'] == 3)].total_cases_to_date\n",
    "plot.scatter(x_italy, y_italy)\n",
    "plot.plot(x_italy, y_italy, color='blue', linewidth=3)"
   ]
  },
  {
   "cell_type": "code",
   "execution_count": 15,
   "metadata": {},
   "outputs": [],
   "source": [
    "def linear_prediction(country, degree):\n",
    "    \n",
    "    df_predict = country\n",
    "\n",
    "    x_raw = df_predict.index\n",
    "    y_raw = df_predict.total_cases_to_date\n",
    "    train_count = len(df_predict)\n",
    "\n",
    "    # Split the data into training/testing sets\n",
    "    X_train = x_raw[:train_count].to_numpy().reshape(-1, 1) \n",
    "    X_test = x_raw[train_count:].to_numpy().reshape(-1, 1) \n",
    "\n",
    "    # Split the targets into training/testing sets\n",
    "    # y_train = np.log1p(y_raw[-18:]).to_numpy()\n",
    "    # y_test = np.log1p(y_raw[:-18]).to_numpy()\n",
    "    y_train = y_raw[:train_count].to_numpy()\n",
    "    y_test = y_raw[train_count:].to_numpy()\n",
    "    \n",
    "    \n",
    "    for i in range (train_count+1, train_count+20):\n",
    "        X_test = np.append (X_test, [i]).reshape(-1, 1)\n",
    "        \n",
    "    poly = PolynomialFeatures(degree=degree)\n",
    "    X_train2 = poly.fit_transform(X_train)\n",
    "    X_test2 = poly.fit_transform(X_test)\n",
    "    \n",
    "    # Create linear regression object\n",
    "    regr = linear_model.LinearRegression()\n",
    "\n",
    "    # Train the model using the training sets\n",
    "    regr.fit(X_train2, y_train)\n",
    "\n",
    "    # Make predictions using the testing set\n",
    "    y_pred = regr.predict(X_test2)\n",
    "    \n",
    "    for j in range (len(x_raw), len(x_raw)+len(y_pred)):\n",
    "        x_raw = np.append(x_raw, j).reshape(-1, 1)\n",
    "        \n",
    "    len(x_raw)\n",
    "    \n",
    "    y_raw = np.append(y_raw.to_numpy(), y_pred).reshape(-1, 1)\n",
    "    \n",
    "    df_result = pd.DataFrame(data=x_raw, columns=['x'])\n",
    "    df_result['y'] = y_raw\n",
    "    df_result.to_csv('data_covid/prediction-'+df_predict['geoId'][0]+'-'+str(degree))\n",
    "    \n",
    "#     print(df_result)"
   ]
  },
  {
   "cell_type": "code",
   "execution_count": 146,
   "metadata": {},
   "outputs": [],
   "source": [
    "# X_train2 = PolynomialFeatures(interaction_only=True).fit_transform(X_train).astype(int)\n",
    "# X_test2 = PolynomialFeatures(interaction_only=True).fit_transform(X_test).astype(int)\n",
    "# X_test2\n",
    "\n",
    "linear_prediction(dfcovid_norway, 1)"
   ]
  },
  {
   "cell_type": "code",
   "execution_count": 16,
   "metadata": {},
   "outputs": [
    {
     "data": {
      "image/png": "[encoded data removed]",
      "text/plain": [
       "<Figure size 936x576 with 1 Axes>"
      ]
     },
     "metadata": {
      "needs_background": "light"
     },
     "output_type": "display_data"
    }
   ],
   "source": [
    "import matplotlib.pyplot as plot\n",
    "\n",
    "df_predict_id = pd.read_csv('data_covid/prediction-ID-2')\n",
    "df_predict_no = pd.read_csv('data_covid/prediction-NO-1')\n",
    "df_predict_us = pd.read_csv('data_covid/prediction-US-2')\n",
    "df_predict_uk = pd.read_csv('data_covid/prediction-UK-2')\n",
    "df_predict_it = pd.read_csv('data_covid/prediction-IT-2')\n",
    "df_predict_de = pd.read_csv('data_covid/prediction-DE-2')\n",
    "\n",
    "x_indonesia = dfcovid_indonesia.index\n",
    "y_indonesia = dfcovid_indonesia.total_cases_to_date\n",
    "x_indonesia_pred = df_predict_id.x\n",
    "y_indonesia_pred = df_predict_id.y\n",
    "\n",
    "x_norway = dfcovid_norway.index\n",
    "y_norway = dfcovid_norway.total_cases_to_date\n",
    "x_norway_pred = df_predict_no.x\n",
    "y_norway_pred = df_predict_no.y\n",
    "\n",
    "# x_uk = dfcovid_uk.index\n",
    "# y_uk = dfcovid_uk.total_cases_to_date\n",
    "\n",
    "# x_us = dfcovid_us.index\n",
    "# y_us = dfcovid_us.total_cases_to_date\n",
    "\n",
    "# x_germany = dfcovid_germany.index\n",
    "# y_germany = dfcovid_germany.total_cases_to_date\n",
    "\n",
    "# x_china = dfcovid_china.index\n",
    "# y_china = dfcovid_china.total_cases_to_date\n",
    "\n",
    "# x_france = dfcovid_france.index\n",
    "# y_france = dfcovid_france.total_cases_to_date\n",
    "\n",
    "# x_italy = dfcovid_italy.index\n",
    "# y_italy = dfcovid_italy.total_cases_to_date\n",
    "\n",
    "# x_belgium = dfcovid_belgium.index\n",
    "# y_belgium = dfcovid_belgium.total_cases_to_date\n",
    "\n",
    "plot.figure(figsize=(13, 8))\n",
    "\n",
    "# plot.scatter(x_indonesia, y_indonesia, c='r', label='Indonesia')\n",
    "# plot.scatter(x_norway, y_norway, c='b', label='Norway')\n",
    "# plot.scatter(x_uk, y_uk, c='y', label='UK')\n",
    "# plot.scatter(x_us, y_us, c='g', label='US')\n",
    "\n",
    "plot.plot(x_indonesia, y_indonesia, color='red', linewidth=1, label='Indonesia')\n",
    "plot.plot(x_indonesia_pred, y_indonesia_pred, color='green', linewidth=1, label='Indonesia')\n",
    "\n",
    "plot.plot(x_norway, y_norway, color='blue', linewidth=1, label='Norway')\n",
    "plot.plot(x_norway_pred, y_norway_pred, color='yellow', linewidth=1, label='Norway')\n",
    "\n",
    "# plot.plot(x_belgium, y_belgium, color='yellow', linewidth=1, label='Belgium')\n",
    "# plot.plot(x_uk, y_uk, color='yellow', linewidth=1, label='UK')\n",
    "# plot.plot(x_us, y_us, color='green', linewidth=1, label='US')\n",
    "# plot.plot(x_germany, y_germany, color='blue', linewidth=1, label='Germany')\n",
    "# plot.plot(x_france, y_france, color='red', linewidth=1, label='France')\n",
    "# plot.plot(x_italy, y_italy, color='black', linewidth=1, label='Italy')\n",
    "# plot.plot(x_southkorea, y_southkorea, color='brown', linewidth=1, label='South Korea')\n",
    "\n",
    "plot.legend(loc='upper left')\n",
    "plot.show()"
   ]
  },
  {
   "cell_type": "code",
   "execution_count": null,
   "metadata": {},
   "outputs": [],
   "source": [
    "# Create linear regression object\n",
    "regr = linear_model.LinearRegression()\n",
    "\n",
    "# Train the model using the training sets\n",
    "regr.fit(X_train2, y_train)\n",
    "\n",
    "# Make predictions using the testing set\n",
    "y_pred = regr.predict(X_test2)\n",
    "\n",
    "y_pred"
   ]
  },
  {
   "cell_type": "code",
   "execution_count": 352,
   "metadata": {},
   "outputs": [
    {
     "data": {
      "text/plain": [
       "array([4418.16777404, 4681.14839469, 4951.77012781, 5230.03297339,\n",
       "       5515.93693143, 5809.48200194, 6110.66818492, 6419.49548035,\n",
       "       6735.96388826, 7060.07340863, 7391.82404146, 7731.21578676,\n",
       "       8078.24864452, 8432.92261475, 8795.23769744, 9165.19389259,\n",
       "       9542.79120021, 9928.0296203 ])"
      ]
     },
     "execution_count": 352,
     "metadata": {},
     "output_type": "execute_result"
    }
   ],
   "source": [
    "# Create linear regression object\n",
    "regr = linear_model.LinearRegression()\n",
    "\n",
    "# Train the model using the training sets\n",
    "regr.fit(X_train2, y_train)\n",
    "\n",
    "# Make predictions using the testing set\n",
    "y_pred = regr.predict(X_test2)\n",
    "\n",
    "y_pred"
   ]
  },
  {
   "cell_type": "code",
   "execution_count": 387,
   "metadata": {},
   "outputs": [],
   "source": [
    "# x_indonesia = np.append(x_indonesia.values, y_pred).reshape(-1, 1)\n",
    "\n",
    "# y_indonesia = np.append(y_indonesia.to_numpy(), y_pred).reshape(-1, 1)\n",
    "\n",
    "for j in range (len(x_indonesia), len(x_indonesia)+len(y_pred)):\n",
    "    x_indonesia = np.append(x_indonesia, j).reshape(-1, 1)"
   ]
  },
  {
   "cell_type": "code",
   "execution_count": 1,
   "metadata": {},
   "outputs": [],
   "source": [
    "# type(y_indonesia)\n",
    "# y_indonesia\n",
    "# y_pred"
   ]
  },
  {
   "cell_type": "code",
   "execution_count": 355,
   "metadata": {},
   "outputs": [
    {
     "data": {
      "text/plain": [
       "array([], dtype=int64)"
      ]
     },
     "execution_count": 355,
     "metadata": {},
     "output_type": "execute_result"
    }
   ],
   "source": [
    "y_test\n",
    "# len(y_indonesia)+len(y_pred)"
   ]
  },
  {
   "cell_type": "code",
   "execution_count": 125,
   "metadata": {},
   "outputs": [
    {
     "data": {
      "text/plain": [
       "array([2601.72035573, 2835.35324111, 3079.03173305, 3332.75583156,\n",
       "       3596.52553664, 3870.34084828, 4154.20176649])"
      ]
     },
     "execution_count": 125,
     "metadata": {},
     "output_type": "execute_result"
    }
   ],
   "source": [
    "# Create linear regression object\n",
    "regr = linear_model.LinearRegression()\n",
    "\n",
    "# Train the model using the training sets\n",
    "regr.fit(X_train2, y_train)\n",
    "\n",
    "# Make predictions using the testing set\n",
    "y_pred = regr.predict(X_test2)\n",
    "\n",
    "y_pred"
   ]
  },
  {
   "cell_type": "code",
   "execution_count": null,
   "metadata": {},
   "outputs": [],
   "source": [
    "# X_train\n",
    "# x_norway[:-14]\n",
    "y_test\n",
    "# np.expm1(y_test)"
   ]
  },
  {
   "cell_type": "code",
   "execution_count": null,
   "metadata": {},
   "outputs": [],
   "source": [
    "# The coefficients\n",
    "print('Coefficients: \\n', regr.coef_)\n",
    "# The mean squared error\n",
    "print('Mean squared error: %.2f'\n",
    "      % mean_squared_error(y_test, y_pred))\n",
    "# The coefficient of determination: 1 is perfect prediction\n",
    "print('Coefficient of determination: %.2f'\n",
    "      % r2_score(y_test, y_pred))\n",
    "\n",
    "# Plot outputs\n",
    "plot.scatter(X_test, y_test,  color='black')\n",
    "plot.plot(X_test, y_pred, color='blue', linewidth=3)\n",
    "\n",
    "plot.xticks(())\n",
    "plot.yticks(())\n",
    "\n",
    "plot.show()"
   ]
  },
  {
   "cell_type": "code",
   "execution_count": null,
   "metadata": {},
   "outputs": [],
   "source": [
    "dfcovid[(dfcovid['Countries and territories'] == 'Norway') \n",
    "            & (dfcovid['Month'] == 3)]"
   ]
  },
  {
   "cell_type": "code",
   "execution_count": null,
   "metadata": {},
   "outputs": [],
   "source": [
    "y_italy"
   ]
  },
  {
   "cell_type": "code",
   "execution_count": null,
   "metadata": {},
   "outputs": [],
   "source": []
  }
 ],
 "metadata": {
  "kernelspec": {
   "display_name": "Python 3",
   "language": "python",
   "name": "python3"
  },
  "language_info": {
   "codemirror_mode": {
    "name": "ipython",
    "version": 3
   },
   "file_extension": ".py",
   "mimetype": "text/x-python",
   "name": "python",
   "nbconvert_exporter": "python",
   "pygments_lexer": "ipython3",
   "version": "3.7.6"
  }
 },
 "nbformat": 4,
 "nbformat_minor": 4
}
